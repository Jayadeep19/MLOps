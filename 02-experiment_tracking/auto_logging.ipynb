{
 "cells": [
  {
   "cell_type": "markdown",
   "id": "37f7d3be",
   "metadata": {},
   "source": [
    "- No tracking server\n",
    "- Strorage locally"
   ]
  },
  {
   "cell_type": "code",
   "execution_count": 7,
   "id": "8b8e40ed",
   "metadata": {},
   "outputs": [
    {
     "name": "stdout",
     "output_type": "stream",
     "text": [
      "/workspaces/MLOps/02-experiment_tracking\n"
     ]
    }
   ],
   "source": [
    "import os\n",
    "import pickle\n",
    "\n",
    "from sklearn.ensemble import RandomForestRegressor\n",
    "from sklearn.metrics import root_mean_squared_error\n",
    "\n",
    "print(os.getcwd())\n"
   ]
  },
  {
   "cell_type": "code",
   "execution_count": null,
   "id": "e6358776",
   "metadata": {},
   "outputs": [
    {
     "name": "stdout",
     "output_type": "stream",
     "text": [
      "tracking URI: 'file:///workspaces/MLOps/02-experiment_tracking/mlruns'\n"
     ]
    },
    {
     "data": {
      "text/plain": [
       "[<Experiment: artifact_location='file:///workspaces/MLOps/02-experiment_tracking/mlruns/0', creation_time=1748517589742, experiment_id='0', last_update_time=1748517589742, lifecycle_stage='active', name='Default', tags={}>]"
      ]
     },
     "execution_count": 4,
     "metadata": {},
     "output_type": "execute_result"
    }
   ],
   "source": [
    "import mlflow\n",
    "\n",
    "#set the tracking location\n",
    "print(f\"tracking URI: '{mlflow.get_tracking_uri()}'\")\n",
    "\n",
    "# search for the list of experiments to generate the mlruns folder\n",
    "mlflow.search_experiments()\n",
    "\n",
    "## to set a sqlite db for model registry access and store artifacts:\n",
    "#mlflow.set_tracking_uri(\"sqlite:///mlflow.db\")\n",
    "\n",
    "## for logging manually:\n",
    "# with mlflow.start_run():\n",
    "\n",
    "#         mlflow.set_tag(\"developer\",\"jayadeep\")\n",
    "#         mlflow.log_param(\"train-data-path\", \"./green_tripdata_2021-01.csv\")\n",
    "#         mlflow.log_param(\"valid-data-path\", \"./green_tripdata_2021-02.csv\")\n",
    "#         mlflow.log_param(\"test-data-path\", \"./green_tripdata_2021-03.csv\")"
   ]
  },
  {
   "cell_type": "code",
   "execution_count": 9,
   "id": "efa0d36c",
   "metadata": {},
   "outputs": [],
   "source": [
    "\n",
    "def load_pickle(filename: str):\n",
    "    with open(filename, \"rb\") as f_in:\n",
    "        return pickle.load(f_in)\n",
    "\n",
    "\n",
    "def run_train(data_path: str):\n",
    "\n",
    "    X_train, y_train = load_pickle(os.path.join(data_path, \"train.pkl\"))\n",
    "    X_val, y_val = load_pickle(os.path.join(data_path, \"val.pkl\"))\n",
    "\n",
    "    #set the experiment before starting the run.\n",
    "    # if an existing experiment was found, mlflow automatically, assigns the run to it.\n",
    "    mlflow.set_experiment(\"nyc-taxi-experiment-homework02\")\n",
    "    mlflow.set_tag(\"developer\", \"jayadeep\")\n",
    "\n",
    "    mlflow.sklearn.autolog()\n",
    "\n",
    "    params = {\"max_depth\":10,\n",
    "                \"random_state\":0}\n",
    "\n",
    "    rf = RandomForestRegressor(**params)\n",
    "    rf.fit(X_train, y_train)\n",
    "    y_pred = rf.predict(X_val)\n",
    "\n",
    "    rmse = root_mean_squared_error(y_val, y_pred)\n",
    "    #mlflow.log_metric(\"rmse\", rmse)\n",
    "\n",
    "    min_split = rf.get_params()['min_samples_split']\n",
    "    print(\"min_samples_split:\", min_split)\n"
   ]
  },
  {
   "cell_type": "code",
   "execution_count": 10,
   "id": "8be8ab92",
   "metadata": {},
   "outputs": [
    {
     "name": "stdout",
     "output_type": "stream",
     "text": [
      "min_samples_split: 2\n"
     ]
    }
   ],
   "source": [
    "data_path = \"processed_green_trip_data\"\n",
    "run_train(data_path=data_path)"
   ]
  }
 ],
 "metadata": {
  "kernelspec": {
   "display_name": "Python 3",
   "language": "python",
   "name": "python3"
  },
  "language_info": {
   "codemirror_mode": {
    "name": "ipython",
    "version": 3
   },
   "file_extension": ".py",
   "mimetype": "text/x-python",
   "name": "python",
   "nbconvert_exporter": "python",
   "pygments_lexer": "ipython3",
   "version": "3.13.2"
  }
 },
 "nbformat": 4,
 "nbformat_minor": 5
}
