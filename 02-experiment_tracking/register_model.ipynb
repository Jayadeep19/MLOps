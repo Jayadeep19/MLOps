{
 "cells": [
  {
   "cell_type": "markdown",
   "id": "c48bd83b",
   "metadata": {},
   "source": [
    "- To register the best performing model to the model registery\n",
    "- We use the march green trip dataset to test the best 5 models from the hyper parameter tuning that was perfromed in the last step.\n",
    "***\n",
    "1. First step is to select 5 models with the least rmse values from the last step\n",
    "2. Now these models are to be trained and tested again on the train, val and test dataset\n",
    "3. Log all the parameters (train loss, val loss, and test loss)\n",
    "4. select the model with the lease `test_loss` rmse value and promote the model to the model registry"
   ]
  },
  {
   "cell_type": "code",
   "execution_count": 1,
   "id": "d44339df",
   "metadata": {},
   "outputs": [
    {
     "name": "stdout",
     "output_type": "stream",
     "text": [
      "cwd is:  /workspaces/MLOps/02-experiment_tracking\n"
     ]
    }
   ],
   "source": [
    "import os\n",
    "import pickle\n",
    "import click\n",
    "import mlflow\n",
    "\n",
    "from mlflow.entities import ViewType\n",
    "from mlflow.tracking import MlflowClient\n",
    "from sklearn.ensemble import RandomForestRegressor\n",
    "from sklearn.metrics import root_mean_squared_error\n",
    "\n",
    "print(\"cwd is: \", os.getcwd())"
   ]
  },
  {
   "cell_type": "code",
   "execution_count": 2,
   "id": "748661c3",
   "metadata": {},
   "outputs": [],
   "source": [
    "HPO_EXPERIMENT_NAME = \"random-forest-hyperopt\"\n",
    "EXPERIMENT_NAME = \"random-forest-best-models\"\n",
    "RF_PARAMS = ['max_depth', 'n_estimators', 'min_samples_split', 'min_samples_leaf', 'random_state']"
   ]
  },
  {
   "cell_type": "code",
   "execution_count": 3,
   "id": "4ac19d53",
   "metadata": {},
   "outputs": [],
   "source": [
    "# now set the tracking server uri to the local tracking server and initialize the autolog\n",
    "mlflow.set_tracking_uri(\"http://127.0.0.1:5000\")\n",
    "mlflow.set_experiment(EXPERIMENT_NAME)\n",
    "mlflow.sklearn.autolog()"
   ]
  },
  {
   "cell_type": "code",
   "execution_count": 4,
   "id": "10a446e6",
   "metadata": {},
   "outputs": [],
   "source": [
    "# to load the dataset\n",
    "def load_pickle(filename):\n",
    "    with open(filename, \"rb\") as f_in:\n",
    "        return pickle.load(f_in)"
   ]
  },
  {
   "cell_type": "code",
   "execution_count": 5,
   "id": "417cc5b3",
   "metadata": {},
   "outputs": [],
   "source": [
    "\n",
    "def train_and_log_model(data_path, params, name):\n",
    "    X_train, y_train = load_pickle(os.path.join(data_path, \"train.pkl\"))\n",
    "    X_val, y_val = load_pickle(os.path.join(data_path, \"val.pkl\"))\n",
    "    X_test, y_test = load_pickle(os.path.join(data_path, \"test.pkl\"))\n",
    "\n",
    "    with mlflow.start_run():\n",
    "        new_params = {}\n",
    "        for param in RF_PARAMS:\n",
    "            new_params[param] = int(params[param])\n",
    "\n",
    "        mlflow.set_tag(\"model_name_in_hyperopt\", name)\n",
    "        \n",
    "        rf = RandomForestRegressor(**new_params)\n",
    "        rf.fit(X_train, y_train)\n",
    "\n",
    "        # Evaluate model on the validation and test sets\n",
    "        val_rmse = root_mean_squared_error(y_val, rf.predict(X_val))\n",
    "        mlflow.log_metric(\"val_rmse\", val_rmse)\n",
    "        test_rmse = root_mean_squared_error(y_test, rf.predict(X_test))\n",
    "        mlflow.log_metric(\"test_rmse\", test_rmse)"
   ]
  },
  {
   "cell_type": "code",
   "execution_count": 6,
   "id": "3ec09a0f",
   "metadata": {},
   "outputs": [
    {
     "ename": "",
     "evalue": "",
     "output_type": "error",
     "traceback": [
      "\u001b[1;31mThe Kernel crashed while executing code in the current cell or a previous cell. \n",
      "\u001b[1;31mPlease review the code in the cell(s) to identify a possible cause of the failure. \n",
      "\u001b[1;31mClick <a href='https://aka.ms/vscodeJupyterKernelCrash'>here</a> for more info. \n",
      "\u001b[1;31mView Jupyter <a href='command:jupyter.viewOutput'>log</a> for further details."
     ]
    }
   ],
   "source": [
    "\n",
    "def run_register_model(data_path: str, top_n: int):\n",
    "\n",
    "    client = MlflowClient()\n",
    "\n",
    "    # Retrieve the top_n model runs and log the models\n",
    "    experiment = client.get_experiment_by_name(HPO_EXPERIMENT_NAME)\n",
    "    runs = client.search_runs(\n",
    "        experiment_ids=experiment.experiment_id,\n",
    "        run_view_type=ViewType.ACTIVE_ONLY,\n",
    "        max_results=top_n,\n",
    "        order_by=[\"metrics.rmse ASC\"]\n",
    "    )\n",
    "    for run in runs:\n",
    "        train_and_log_model(data_path=data_path, params=run.data.params, name = run.info.run_id)\n",
    "\n",
    "    # Select the model with the lowest test RMSE\n",
    "    experiment = client.get_experiment_by_name(EXPERIMENT_NAME)\n",
    "    best_run = client.search_runs(\n",
    "        experiment_ids=experiment.experiment_id,\n",
    "        run_view_type=ViewType.ACTIVE_ONLY,\n",
    "        max_results=1,\n",
    "        order_by=[\"metrics.test_rmse ASC\"]\n",
    "     )[0]\n",
    "\n",
    "    # Register the best model\n",
    "    run_id = best_run.info.run_id\n",
    "    model_uri = f\"runs:/{run_id}/model\"\n",
    "    mlflow.register_model(model_uri= model_uri, name = \"best_model_taxi_trip_duration\")\n",
    "\n",
    "data_path = \"processed_green_trip_data\"\n",
    "run_register_model(data_path=data_path, top_n=1)"
   ]
  },
  {
   "cell_type": "markdown",
   "id": "b4c73081",
   "metadata": {},
   "source": [
    "`Client` can be used for various purposes like creating a new experiment, search them, register a model...."
   ]
  },
  {
   "cell_type": "code",
   "execution_count": 1,
   "id": "8ad47fec",
   "metadata": {},
   "outputs": [],
   "source": [
    "from mlflow.tracking import MlflowClient\n",
    "\n",
    "MLFLOW_TRACKING_URI = \"sqlite:///backend.db\"\n",
    "\n",
    "client = MlflowClient(tracking_uri=MLFLOW_TRACKING_URI)"
   ]
  },
  {
   "cell_type": "code",
   "execution_count": null,
   "id": "35466c84",
   "metadata": {},
   "outputs": [
    {
     "data": {
      "text/plain": [
       "[<Run: data=<RunData: metrics={'rmse': 5.322418787243458}, params={'max_depth': '20',\n",
       "  'min_samples_leaf': '2',\n",
       "  'min_samples_split': '3',\n",
       "  'n_estimators': '23',\n",
       "  'random_state': '42'}, tags={'mlflow.runName': 'brawny-ram-840',\n",
       "  'mlflow.source.name': '/home/codespace/anaconda3/envs/env_mlflow/lib/python3.13/site-packages/ipykernel_launcher.py',\n",
       "  'mlflow.source.type': 'LOCAL',\n",
       "  'mlflow.user': 'codespace',\n",
       "  'model': 'rfr',\n",
       "  'type': 'hyperparameter tuning'}>, info=<RunInfo: artifact_uri='mlflow-artifacts:/1/30c6e283ac8547998edcc2372ffc9a3e/artifacts', end_time=1748617134011, experiment_id='1', lifecycle_stage='active', run_id='30c6e283ac8547998edcc2372ffc9a3e', run_name='brawny-ram-840', run_uuid='30c6e283ac8547998edcc2372ffc9a3e', start_time=1748617126461, status='FINISHED', user_id='codespace'>, inputs=<RunInputs: dataset_inputs=[]>>]"
      ]
     },
     "execution_count": 10,
     "metadata": {},
     "output_type": "execute_result"
    }
   ],
   "source": [
    "cruns = client.search_runs(\n",
    "        experiment_ids=1,\n",
    "        run_view_type=ViewType.ACTIVE_ONLY,\n",
    "        max_results=2,\n",
    "        order_by=[\"metrics.rmse ASC\"]\n",
    "    )\n",
    "\n",
    "cruns"
   ]
  },
  {
   "cell_type": "code",
   "execution_count": 19,
   "id": "706b9cc0",
   "metadata": {},
   "outputs": [
    {
     "data": {
      "text/plain": [
       "'30c6e283ac8547998edcc2372ffc9a3e'"
      ]
     },
     "execution_count": 19,
     "metadata": {},
     "output_type": "execute_result"
    }
   ],
   "source": [
    "cruns[0].info.run_id"
   ]
  },
  {
   "cell_type": "code",
   "execution_count": null,
   "id": "09981858",
   "metadata": {},
   "outputs": [],
   "source": []
  }
 ],
 "metadata": {
  "kernelspec": {
   "display_name": "Python 3",
   "language": "python",
   "name": "python3"
  },
  "language_info": {
   "codemirror_mode": {
    "name": "ipython",
    "version": 3
   },
   "file_extension": ".py",
   "mimetype": "text/x-python",
   "name": "python",
   "nbconvert_exporter": "python",
   "pygments_lexer": "ipython3",
   "version": "3.13.2"
  }
 },
 "nbformat": 4,
 "nbformat_minor": 5
}
