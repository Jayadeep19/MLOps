{
 "cells": [
  {
   "cell_type": "markdown",
   "id": "ca2a5203",
   "metadata": {},
   "source": [
    "- tracking server: yes, local server\n",
    "- backend store: sqlite database\n",
    "- artifacts store: local filesystem\n",
    "\n",
    "##### To enable the mlflow server locally: \n",
    "(Run the following command in the terminal and in the right directory)\n",
    "\n",
    "    - mlflow server --backend-store-uri sqlite:///backend.db\n",
    "    - mlflow server --backend-store-uri sqlite:///backend.db default-artifact-root ./artifacts_local\n",
    "- If the default-artifact-root is required : you need to give a local directory to store the artifacts. You can also specify the mlruns folder too. To have clarity, use a different folder for artifacts\n",
    "   \n",
    "    "
   ]
  },
  {
   "cell_type": "code",
   "execution_count": 7,
   "id": "9b39cb24",
   "metadata": {},
   "outputs": [],
   "source": [
    "import os\n",
    "import pickle\n",
    "import click\n",
    "import mlflow\n",
    "import numpy as np\n",
    "from hyperopt import STATUS_OK, Trials, fmin, hp, tpe\n",
    "from hyperopt.pyll import scope\n",
    "from sklearn.ensemble import RandomForestRegressor\n",
    "from sklearn.metrics import root_mean_squared_error"
   ]
  },
  {
   "cell_type": "code",
   "execution_count": null,
   "id": "f65a4dd1",
   "metadata": {},
   "outputs": [],
   "source": [
    "import mlflow\n",
    "\n",
    "#set the tracking uri to the address that is obtained from following the above command.\n",
    "mlflow.set_tracking_uri(\"http://127.0.0.1:5000\")\n"
   ]
  },
  {
   "cell_type": "code",
   "execution_count": 4,
   "id": "9d2691a9",
   "metadata": {},
   "outputs": [
    {
     "name": "stdout",
     "output_type": "stream",
     "text": [
      "tracking URI: 'http://127.0.0.1:5000'\n"
     ]
    }
   ],
   "source": [
    "print(f\"tracking URI: '{mlflow.get_tracking_uri()}'\")"
   ]
  },
  {
   "cell_type": "code",
   "execution_count": 6,
   "id": "629194ff",
   "metadata": {},
   "outputs": [
    {
     "data": {
      "text/plain": [
       "[<Experiment: artifact_location='mlflow-artifacts:/0', creation_time=1748614943845, experiment_id='0', last_update_time=1748614943845, lifecycle_stage='active', name='Default', tags={}>]"
      ]
     },
     "execution_count": 6,
     "metadata": {},
     "output_type": "execute_result"
    }
   ],
   "source": [
    "mlflow.search_experiments()"
   ]
  },
  {
   "cell_type": "code",
   "execution_count": 8,
   "id": "620ff2a1",
   "metadata": {},
   "outputs": [
    {
     "name": "stderr",
     "output_type": "stream",
     "text": [
      "2025/05/30 14:38:56 INFO mlflow.tracking.fluent: Experiment with name 'random-forest-hyperopt' does not exist. Creating a new experiment.\n"
     ]
    },
    {
     "data": {
      "text/plain": [
       "<Experiment: artifact_location='mlflow-artifacts:/1', creation_time=1748615936206, experiment_id='1', last_update_time=1748615936206, lifecycle_stage='active', name='random-forest-hyperopt', tags={}>"
      ]
     },
     "execution_count": 8,
     "metadata": {},
     "output_type": "execute_result"
    }
   ],
   "source": [
    "mlflow.set_experiment(\"random-forest-hyperopt\")"
   ]
  },
  {
   "cell_type": "code",
   "execution_count": 10,
   "id": "e58c6220",
   "metadata": {},
   "outputs": [],
   "source": [
    "def load_pickle(filename: str):\n",
    "    with open(filename, \"rb\") as f_in:\n",
    "        return pickle.load(f_in)"
   ]
  },
  {
   "cell_type": "code",
   "execution_count": 11,
   "id": "d23698e7",
   "metadata": {},
   "outputs": [],
   "source": [
    "def run_optimization(data_path: str, num_trials: int):\n",
    "\n",
    "    X_train, y_train = load_pickle(os.path.join(data_path, \"train.pkl\"))\n",
    "    X_val, y_val = load_pickle(os.path.join(data_path, \"val.pkl\"))\n",
    "\n",
    "    def objective(params):\n",
    "        with mlflow.start_run():\n",
    "            mlflow.set_tag(\"model\",\"rfr\")\n",
    "            mlflow.set_tag(\"type\",\"hyperparameter tuning\")\n",
    "            mlflow.log_params(params)\n",
    "\n",
    "            rf = RandomForestRegressor(**params)\n",
    "            rf.fit(X_train, y_train)\n",
    "            y_pred = rf.predict(X_val)\n",
    "            rmse = root_mean_squared_error(y_val, y_pred)\n",
    "\n",
    "            mlflow.log_metric(\"rmse\", rmse)\n",
    "        return {'loss': rmse, 'status': STATUS_OK}\n",
    "\n",
    "    search_space = {\n",
    "        'max_depth': scope.int(hp.quniform('max_depth', 1, 20, 1)),\n",
    "        'n_estimators': scope.int(hp.quniform('n_estimators', 10, 50, 1)),\n",
    "        'min_samples_split': scope.int(hp.quniform('min_samples_split', 2, 10, 1)),\n",
    "        'min_samples_leaf': scope.int(hp.quniform('min_samples_leaf', 1, 4, 1)),\n",
    "        'random_state': 42\n",
    "    }\n",
    "\n",
    "    rstate = np.random.default_rng(42)  # for reproducible results\n",
    "    best_results = fmin(\n",
    "        fn=objective,\n",
    "        space=search_space,\n",
    "        algo=tpe.suggest,\n",
    "        max_evals=num_trials,\n",
    "        trials=Trials(),\n",
    "        rstate=rstate\n",
    "    )"
   ]
  },
  {
   "cell_type": "code",
   "execution_count": 14,
   "id": "fdeeee97",
   "metadata": {},
   "outputs": [
    {
     "name": "stdout",
     "output_type": "stream",
     "text": [
      "  0%|          | 0/20 [00:00<?, ?trial/s, best loss=?]"
     ]
    },
    {
     "name": "stdout",
     "output_type": "stream",
     "text": [
      "🏃 View run omniscient-zebra-686 at: http://127.0.0.1:5000/#/experiments/1/runs/c76aaa44777447a1988ada719cb968b6\n",
      "\n",
      "🧪 View experiment at: http://127.0.0.1:5000/#/experiments/1\n",
      "\n",
      "🏃 View run skillful-mink-698 at: http://127.0.0.1:5000/#/experiments/1/runs/c204cf84684b448d869e56e146b65dbd\n",
      "\n",
      "🧪 View experiment at: http://127.0.0.1:5000/#/experiments/1                   \n",
      "\n",
      "🏃 View run hilarious-hare-200 at: http://127.0.0.1:5000/#/experiments/1/runs/118b8cc8575f4406a909f7b185875358\n",
      "\n",
      "🧪 View experiment at: http://127.0.0.1:5000/#/experiments/1                   \n",
      "\n",
      "🏃 View run learned-kite-371 at: http://127.0.0.1:5000/#/experiments/1/runs/54ebbc0881c3434983267c6016ffe7ca\n",
      "\n",
      "🧪 View experiment at: http://127.0.0.1:5000/#/experiments/1                   \n",
      "\n",
      "🏃 View run brawny-gnat-30 at: http://127.0.0.1:5000/#/experiments/1/runs/58512c7d60104081941a963c92fb6e25\n",
      "\n",
      "🧪 View experiment at: http://127.0.0.1:5000/#/experiments/1                   \n",
      "\n",
      "🏃 View run respected-shrew-130 at: http://127.0.0.1:5000/#/experiments/1/runs/b8a25371dc0c4a7e92d793a9c83a752d\n",
      "\n",
      "🧪 View experiment at: http://127.0.0.1:5000/#/experiments/1                   \n",
      "\n",
      "🏃 View run sassy-ant-793 at: http://127.0.0.1:5000/#/experiments/1/runs/70e1427a4e344aed9c767354d6f0a15d\n",
      "\n",
      "🧪 View experiment at: http://127.0.0.1:5000/#/experiments/1                   \n",
      "\n",
      "🏃 View run monumental-skink-908 at: http://127.0.0.1:5000/#/experiments/1/runs/e42892f564c34d40b0e04d309e89ccfe\n",
      "\n",
      "🧪 View experiment at: http://127.0.0.1:5000/#/experiments/1                   \n",
      "\n",
      "🏃 View run capricious-ram-650 at: http://127.0.0.1:5000/#/experiments/1/runs/fe04ce64fa1e46258a62758a5a76fc0c\n",
      "\n",
      "🧪 View experiment at: http://127.0.0.1:5000/#/experiments/1                   \n",
      "\n",
      "🏃 View run placid-whale-313 at: http://127.0.0.1:5000/#/experiments/1/runs/1f912331d92547f1b27ceee06fd4965b\n",
      "\n",
      "🧪 View experiment at: http://127.0.0.1:5000/#/experiments/1                   \n",
      "\n",
      "🏃 View run omniscient-fly-266 at: http://127.0.0.1:5000/#/experiments/1/runs/4f8a1b7786864329a334e4420e817133\n",
      "\n",
      "🧪 View experiment at: http://127.0.0.1:5000/#/experiments/1                    \n",
      "\n",
      "🏃 View run monumental-vole-931 at: http://127.0.0.1:5000/#/experiments/1/runs/83b4d7f805254decbc46ca5c78df7d78\n",
      "\n",
      "🧪 View experiment at: http://127.0.0.1:5000/#/experiments/1                    \n",
      "\n",
      "🏃 View run bedecked-sow-598 at: http://127.0.0.1:5000/#/experiments/1/runs/0a45b136df5d4facb1c321364fefaf38\n",
      "\n",
      "🧪 View experiment at: http://127.0.0.1:5000/#/experiments/1                    \n",
      "\n",
      "🏃 View run delightful-cat-710 at: http://127.0.0.1:5000/#/experiments/1/runs/372fbbc3af1741aa9fdb5e6eafc9dc47\n",
      "\n",
      "🧪 View experiment at: http://127.0.0.1:5000/#/experiments/1                    \n",
      "\n",
      "🏃 View run thundering-hawk-818 at: http://127.0.0.1:5000/#/experiments/1/runs/3d9a232466f746a09ae4717d2374b871\n",
      "\n",
      "🧪 View experiment at: http://127.0.0.1:5000/#/experiments/1                    \n",
      "\n",
      "🏃 View run incongruous-asp-1 at: http://127.0.0.1:5000/#/experiments/1/runs/506cb9e5bb284cb7b16b4c7b62427359\n",
      "\n",
      "🧪 View experiment at: http://127.0.0.1:5000/#/experiments/1                    \n",
      "\n",
      "🏃 View run worried-mink-59 at: http://127.0.0.1:5000/#/experiments/1/runs/d66b72e5c85c457eb1914539b32c5288\n",
      "\n",
      "🧪 View experiment at: http://127.0.0.1:5000/#/experiments/1                    \n",
      "\n",
      "🏃 View run brawny-ram-840 at: http://127.0.0.1:5000/#/experiments/1/runs/30c6e283ac8547998edcc2372ffc9a3e\n",
      "\n",
      "🧪 View experiment at: http://127.0.0.1:5000/#/experiments/1                    \n",
      "\n",
      "🏃 View run sedate-loon-898 at: http://127.0.0.1:5000/#/experiments/1/runs/4595a4ad25b141c0abf7e37efc484d70\n",
      "\n",
      "🧪 View experiment at: http://127.0.0.1:5000/#/experiments/1                    \n",
      "\n",
      "🏃 View run brawny-carp-421 at: http://127.0.0.1:5000/#/experiments/1/runs/4d5e57d64b37495abb869f039cf3be57\n",
      "\n",
      "🧪 View experiment at: http://127.0.0.1:5000/#/experiments/1                    \n",
      "\n",
      "100%|██████████| 20/20 [01:21<00:00,  4.09s/trial, best loss: 5.322418787243458]\n"
     ]
    }
   ],
   "source": [
    "run_optimization(data_path=\"/workspaces/MLOps/02-experiment_tracking/processed_green_trip_data\", num_trials=20)"
   ]
  }
 ],
 "metadata": {
  "kernelspec": {
   "display_name": "Python 3",
   "language": "python",
   "name": "python3"
  },
  "language_info": {
   "codemirror_mode": {
    "name": "ipython",
    "version": 3
   },
   "file_extension": ".py",
   "mimetype": "text/x-python",
   "name": "python",
   "nbconvert_exporter": "python",
   "pygments_lexer": "ipython3",
   "version": "3.13.2"
  }
 },
 "nbformat": 4,
 "nbformat_minor": 5
}
